{
 "cells": [
  {
   "attachments": {},
   "cell_type": "markdown",
   "metadata": {},
   "source": [
    "Given a trajectory dataset \n",
    "- plot # trajectory count w.r.t length (bins). Gives you an idea about average length of trajectories.\n",
    "- plot # trajectory count w.r.t duration (bins). Gives you an idea about average duration of trajectories."
   ]
  },
  {
   "cell_type": "markdown",
   "metadata": {},
   "source": [
    "# Fields of a trip dataset\n",
    "* trip_id: A trip's unique identifier,\n",
    "* mode:The mode of travel (0=Walk, 1=Vehicle, 2=Unknown),\n",
    "* end_date: The trip's end date and time in UTC, ISO-8601 format, example: \"2014-04-01T08:33:35.000\"Z,\n",
    "* end_dow: The trip's end weekday in local time, where 1=Mon, 2=Tues, 3=Wed, 4=Thurs, 5=Fri, 6=Sat, 7=Su,\n",
    "* end_lat: The latitude coordinates of the trip's end point in decimal degrees,\n",
    "* end_lon: The decimal degree longitude coordinates of the trip's end point in decimal degree,\n",
    "* trip_distance_m: Trip distance in meters,\n",
    "* vehicle_weight_class: Numeral representing the vehicle weight class\n",
    "\n",
    "# Fields of waypoint dataset\n",
    "* w_trip_id: A trip's unique identifier,\n",
    "* waypoint_seq: The order of the waypoint within the trip starting with \"1\" and incrementing by one,\n",
    "* capture_time: The capture date and time of the waypoint in UTC, ISO-8601 format, example: \"2014-04-01T08:33:35.000Z\",\n",
    "* lat: The decimal degree latitude coordinates of the waypoint,\n",
    "* lon: The decimal degree longitude coordinates of the waypoint,\n",
    "* raw_speed: Raw speed,\n",
    "* raw_speed_metric: Raw speed metric\n",
    "\n",
    "\n",
    "# Objective:\n",
    "- define bins boundaries for length: 5, 10, 20, 30, 50, 100, > 100 \n",
    "- length of trajectories (count the number of waypoints)\n",
    "- Number of trajectories in bins [min, max) w.r.t length\n",
    "- plot lemgth bins VS number\n",
    "- define bouderies for duration in minutes: 1, 5, 10, 15, 30, 60, > 60 \n",
    "- Number of trajectories in bins [min, max) w.r.t duration\n",
    "- plot duration bins VS number\n",
    "\n"
   ]
  },
  {
   "cell_type": "code",
   "execution_count": 1,
   "metadata": {},
   "outputs": [],
   "source": [
    "import pandas as pd"
   ]
  },
  {
   "cell_type": "markdown",
   "metadata": {},
   "source": [
    "# length of all trips"
   ]
  },
  {
   "cell_type": "code",
   "execution_count": 2,
   "metadata": {},
   "outputs": [],
   "source": [
    "from operator import index\n",
    "\n",
    "\n",
    "waypoints_file = \"sample_waypoints.csv\"\n",
    "# trips_file = \"sample_trips.csv\"\n",
    "\n",
    "waypoints_df = pd.read_csv(waypoints_file, index_col=0)\n",
    "# trips_df = pd.read_csv(trips_file, index_col=0)\n"
   ]
  },
  {
   "cell_type": "markdown",
   "metadata": {},
   "source": [
    "# Data Satatistics"
   ]
  },
  {
   "cell_type": "code",
   "execution_count": 27,
   "metadata": {},
   "outputs": [
    {
     "name": "stdout",
     "output_type": "stream",
     "text": [
      "Number of points: 10000\n",
      "Number of trips: 37\n"
     ]
    }
   ],
   "source": [
    "print(f\"Number of points: {waypoints_df.shape[0]}\" )\n",
    "print(f\"Number of trips: {waypoints_df.w_trip_id.unique().shape[0]}\")\n"
   ]
  },
  {
   "cell_type": "code",
   "execution_count": 3,
   "metadata": {},
   "outputs": [
    {
     "data": {
      "text/html": [
       "<div>\n",
       "<style scoped>\n",
       "    .dataframe tbody tr th:only-of-type {\n",
       "        vertical-align: middle;\n",
       "    }\n",
       "\n",
       "    .dataframe tbody tr th {\n",
       "        vertical-align: top;\n",
       "    }\n",
       "\n",
       "    .dataframe thead th {\n",
       "        text-align: right;\n",
       "    }\n",
       "</style>\n",
       "<table border=\"1\" class=\"dataframe\">\n",
       "  <thead>\n",
       "    <tr style=\"text-align: right;\">\n",
       "      <th></th>\n",
       "      <th>trip_id</th>\n",
       "      <th>mode</th>\n",
       "      <th>end_date</th>\n",
       "      <th>end_dow</th>\n",
       "      <th>end_lat</th>\n",
       "      <th>end_lon</th>\n",
       "      <th>trip_distance_m</th>\n",
       "      <th>vehicle_weight_class</th>\n",
       "    </tr>\n",
       "  </thead>\n",
       "  <tbody>\n",
       "    <tr>\n",
       "      <th>0</th>\n",
       "      <td>00049ee09b4319c4dbd5d936b6805f56</td>\n",
       "      <td>1</td>\n",
       "      <td>2019-09-27T14:23:29.000Z</td>\n",
       "      <td>5</td>\n",
       "      <td>52.3400</td>\n",
       "      <td>10.3456</td>\n",
       "      <td>45390.209126</td>\n",
       "      <td>1</td>\n",
       "    </tr>\n",
       "    <tr>\n",
       "      <th>1</th>\n",
       "      <td>0007db71fcc2629b21f20e7b585688fc</td>\n",
       "      <td>1</td>\n",
       "      <td>2019-11-19T06:19:44.000Z</td>\n",
       "      <td>2</td>\n",
       "      <td>52.4081</td>\n",
       "      <td>9.7329</td>\n",
       "      <td>14972.302350</td>\n",
       "      <td>1</td>\n",
       "    </tr>\n",
       "    <tr>\n",
       "      <th>2</th>\n",
       "      <td>0007db71fcc2629b21f20e7b585688fc</td>\n",
       "      <td>1</td>\n",
       "      <td>2019-11-19T06:19:44.000Z</td>\n",
       "      <td>2</td>\n",
       "      <td>52.4081</td>\n",
       "      <td>9.7329</td>\n",
       "      <td>14972.302350</td>\n",
       "      <td>1</td>\n",
       "    </tr>\n",
       "    <tr>\n",
       "      <th>3</th>\n",
       "      <td>0011fa243a004667b151c6b2e48be382</td>\n",
       "      <td>1</td>\n",
       "      <td>2019-09-20T11:01:25.000Z</td>\n",
       "      <td>5</td>\n",
       "      <td>52.2968</td>\n",
       "      <td>9.8262</td>\n",
       "      <td>1847.469459</td>\n",
       "      <td>1</td>\n",
       "    </tr>\n",
       "    <tr>\n",
       "      <th>4</th>\n",
       "      <td>0023fc833b1a925baf1d7e2f5e9a6401</td>\n",
       "      <td>1</td>\n",
       "      <td>2019-11-09T16:35:42.000Z</td>\n",
       "      <td>6</td>\n",
       "      <td>52.4200</td>\n",
       "      <td>9.8019</td>\n",
       "      <td>6580.438153</td>\n",
       "      <td>2</td>\n",
       "    </tr>\n",
       "  </tbody>\n",
       "</table>\n",
       "</div>"
      ],
      "text/plain": [
       "                            trip_id  mode                  end_date  end_dow  \\\n",
       "0  00049ee09b4319c4dbd5d936b6805f56     1  2019-09-27T14:23:29.000Z        5   \n",
       "1  0007db71fcc2629b21f20e7b585688fc     1  2019-11-19T06:19:44.000Z        2   \n",
       "2  0007db71fcc2629b21f20e7b585688fc     1  2019-11-19T06:19:44.000Z        2   \n",
       "3  0011fa243a004667b151c6b2e48be382     1  2019-09-20T11:01:25.000Z        5   \n",
       "4  0023fc833b1a925baf1d7e2f5e9a6401     1  2019-11-09T16:35:42.000Z        6   \n",
       "\n",
       "   end_lat  end_lon  trip_distance_m  vehicle_weight_class  \n",
       "0  52.3400  10.3456     45390.209126                     1  \n",
       "1  52.4081   9.7329     14972.302350                     1  \n",
       "2  52.4081   9.7329     14972.302350                     1  \n",
       "3  52.2968   9.8262      1847.469459                     1  \n",
       "4  52.4200   9.8019      6580.438153                     2  "
      ]
     },
     "execution_count": 3,
     "metadata": {},
     "output_type": "execute_result"
    }
   ],
   "source": [
    "# trips_df.head()"
   ]
  },
  {
   "cell_type": "code",
   "execution_count": 4,
   "metadata": {},
   "outputs": [
    {
     "data": {
      "text/html": [
       "<div>\n",
       "<style scoped>\n",
       "    .dataframe tbody tr th:only-of-type {\n",
       "        vertical-align: middle;\n",
       "    }\n",
       "\n",
       "    .dataframe tbody tr th {\n",
       "        vertical-align: top;\n",
       "    }\n",
       "\n",
       "    .dataframe thead th {\n",
       "        text-align: right;\n",
       "    }\n",
       "</style>\n",
       "<table border=\"1\" class=\"dataframe\">\n",
       "  <thead>\n",
       "    <tr style=\"text-align: right;\">\n",
       "      <th></th>\n",
       "      <th>w_trip_id</th>\n",
       "      <th>waypoint_seq</th>\n",
       "      <th>capture_time</th>\n",
       "      <th>lat</th>\n",
       "      <th>lon</th>\n",
       "      <th>raw_speed</th>\n",
       "      <th>raw_speed_metric</th>\n",
       "    </tr>\n",
       "  </thead>\n",
       "  <tbody>\n",
       "    <tr>\n",
       "      <th>0</th>\n",
       "      <td>000229fa0918ba0950e8059f241c318d</td>\n",
       "      <td>5</td>\n",
       "      <td>2019-09-16T08:20:46.000Z</td>\n",
       "      <td>52.342055</td>\n",
       "      <td>9.761653</td>\n",
       "      <td>49.889664</td>\n",
       "      <td>kph</td>\n",
       "    </tr>\n",
       "    <tr>\n",
       "      <th>1</th>\n",
       "      <td>000229fa0918ba0950e8059f241c318d</td>\n",
       "      <td>5</td>\n",
       "      <td>2019-09-16T08:20:46.000Z</td>\n",
       "      <td>52.342055</td>\n",
       "      <td>9.761653</td>\n",
       "      <td>49.889664</td>\n",
       "      <td>kph</td>\n",
       "    </tr>\n",
       "    <tr>\n",
       "      <th>2</th>\n",
       "      <td>000229fa0918ba0950e8059f241c318d</td>\n",
       "      <td>1</td>\n",
       "      <td>2019-09-16T08:15:27.000Z</td>\n",
       "      <td>52.344969</td>\n",
       "      <td>9.716048</td>\n",
       "      <td>20.921472</td>\n",
       "      <td>kph</td>\n",
       "    </tr>\n",
       "    <tr>\n",
       "      <th>3</th>\n",
       "      <td>000229fa0918ba0950e8059f241c318d</td>\n",
       "      <td>1</td>\n",
       "      <td>2019-09-16T08:15:27.000Z</td>\n",
       "      <td>52.344969</td>\n",
       "      <td>9.716048</td>\n",
       "      <td>20.921472</td>\n",
       "      <td>kph</td>\n",
       "    </tr>\n",
       "    <tr>\n",
       "      <th>4</th>\n",
       "      <td>000229fa0918ba0950e8059f241c318d</td>\n",
       "      <td>2</td>\n",
       "      <td>2019-09-16T08:16:57.000Z</td>\n",
       "      <td>52.345270</td>\n",
       "      <td>9.719486</td>\n",
       "      <td>46.670976</td>\n",
       "      <td>kph</td>\n",
       "    </tr>\n",
       "  </tbody>\n",
       "</table>\n",
       "</div>"
      ],
      "text/plain": [
       "                          w_trip_id  waypoint_seq              capture_time  \\\n",
       "0  000229fa0918ba0950e8059f241c318d             5  2019-09-16T08:20:46.000Z   \n",
       "1  000229fa0918ba0950e8059f241c318d             5  2019-09-16T08:20:46.000Z   \n",
       "2  000229fa0918ba0950e8059f241c318d             1  2019-09-16T08:15:27.000Z   \n",
       "3  000229fa0918ba0950e8059f241c318d             1  2019-09-16T08:15:27.000Z   \n",
       "4  000229fa0918ba0950e8059f241c318d             2  2019-09-16T08:16:57.000Z   \n",
       "\n",
       "         lat       lon  raw_speed raw_speed_metric  \n",
       "0  52.342055  9.761653  49.889664              kph  \n",
       "1  52.342055  9.761653  49.889664              kph  \n",
       "2  52.344969  9.716048  20.921472              kph  \n",
       "3  52.344969  9.716048  20.921472              kph  \n",
       "4  52.345270  9.719486  46.670976              kph  "
      ]
     },
     "execution_count": 4,
     "metadata": {},
     "output_type": "execute_result"
    }
   ],
   "source": [
    "waypoints_df.head()"
   ]
  },
  {
   "cell_type": "code",
   "execution_count": 5,
   "metadata": {},
   "outputs": [
    {
     "data": {
      "text/html": [
       "<div>\n",
       "<style scoped>\n",
       "    .dataframe tbody tr th:only-of-type {\n",
       "        vertical-align: middle;\n",
       "    }\n",
       "\n",
       "    .dataframe tbody tr th {\n",
       "        vertical-align: top;\n",
       "    }\n",
       "\n",
       "    .dataframe thead th {\n",
       "        text-align: right;\n",
       "    }\n",
       "</style>\n",
       "<table border=\"1\" class=\"dataframe\">\n",
       "  <thead>\n",
       "    <tr style=\"text-align: right;\">\n",
       "      <th></th>\n",
       "      <th>w_trip_id</th>\n",
       "      <th>length</th>\n",
       "    </tr>\n",
       "  </thead>\n",
       "  <tbody>\n",
       "    <tr>\n",
       "      <th>0</th>\n",
       "      <td>000229fa0918ba0950e8059f241c318d</td>\n",
       "      <td>9</td>\n",
       "    </tr>\n",
       "    <tr>\n",
       "      <th>1</th>\n",
       "      <td>0008216eee32c3901a4b1e3525f22f2c</td>\n",
       "      <td>57</td>\n",
       "    </tr>\n",
       "  </tbody>\n",
       "</table>\n",
       "</div>"
      ],
      "text/plain": [
       "                          w_trip_id  length\n",
       "0  000229fa0918ba0950e8059f241c318d       9\n",
       "1  0008216eee32c3901a4b1e3525f22f2c      57"
      ]
     },
     "execution_count": 5,
     "metadata": {},
     "output_type": "execute_result"
    }
   ],
   "source": [
    "length_df = pd.DataFrame({'length': waypoints_df.groupby('w_trip_id')['waypoint_seq'].max()}).reset_index()\n",
    "length_df.head(2)"
   ]
  },
  {
   "cell_type": "markdown",
   "metadata": {},
   "source": [
    "# count trips in bins w.r.t lengh"
   ]
  },
  {
   "cell_type": "code",
   "execution_count": 50,
   "metadata": {},
   "outputs": [
    {
     "data": {
      "text/html": [
       "<div>\n",
       "<style scoped>\n",
       "    .dataframe tbody tr th:only-of-type {\n",
       "        vertical-align: middle;\n",
       "    }\n",
       "\n",
       "    .dataframe tbody tr th {\n",
       "        vertical-align: top;\n",
       "    }\n",
       "\n",
       "    .dataframe thead th {\n",
       "        text-align: right;\n",
       "    }\n",
       "</style>\n",
       "<table border=\"1\" class=\"dataframe\">\n",
       "  <thead>\n",
       "    <tr style=\"text-align: right;\">\n",
       "      <th></th>\n",
       "      <th>bin</th>\n",
       "      <th>count</th>\n",
       "    </tr>\n",
       "  </thead>\n",
       "  <tbody>\n",
       "    <tr>\n",
       "      <th>0</th>\n",
       "      <td>[0, 5)</td>\n",
       "      <td>2</td>\n",
       "    </tr>\n",
       "    <tr>\n",
       "      <th>1</th>\n",
       "      <td>[5, 10)</td>\n",
       "      <td>4</td>\n",
       "    </tr>\n",
       "  </tbody>\n",
       "</table>\n",
       "</div>"
      ],
      "text/plain": [
       "       bin  count\n",
       "0   [0, 5)      2\n",
       "1  [5, 10)      4"
      ]
     },
     "execution_count": 50,
     "metadata": {},
     "output_type": "execute_result"
    }
   ],
   "source": [
    "bins_boundaries = [5, 10, 20, 30, 50, 100]\n",
    "\n",
    "list_ = []\n",
    "for i in range(len(bins_boundaries)):\n",
    "    min = 0 if i == 0 else bins_boundaries[i-1]\n",
    "    max = bins_boundaries[i]\n",
    "    data = {\n",
    "        \"bin\": f\"[{min}, {max})\",\n",
    "        \"count\": length_df[(length_df[\"length\"] >= min) & (length_df[\"length\"] < max)].shape[0]\n",
    "    }\n",
    "    list_.append(data)\n",
    "last_data = {\n",
    "    \"bin\": f\"[{bins_boundaries[i]}, )\",\n",
    "    \"count\": length_df[(length_df[\"length\"] >= bins_boundaries[i])].shape[0]\n",
    "}\n",
    "list_.append(last_data)\n",
    "bins_df = pd.DataFrame(list_)\n",
    "bins_df.head(2)"
   ]
  },
  {
   "cell_type": "markdown",
   "metadata": {},
   "source": [
    "# Plot lemgth bins VS number"
   ]
  },
  {
   "cell_type": "code",
   "execution_count": 51,
   "metadata": {},
   "outputs": [
    {
     "data": {
      "image/png": "[encoded data removed]",
      "text/plain": [
       "<Figure size 600x400 with 1 Axes>"
      ]
     },
     "metadata": {},
     "output_type": "display_data"
    }
   ],
   "source": [
    "import matplotlib.pyplot as plt\n",
    "fig, ax = plt.subplots(nrows=1, ncols=1, figsize=(6, 4))\n",
    "\n",
    "ax.bar(bins_df[\"bin\"], bins_df[\"count\"])\n",
    "ax.set_xlabel(\"length bin\")\n",
    "ax.set_ylabel(\"length count\")\n",
    "plt.show()"
   ]
  },
  {
   "cell_type": "markdown",
   "metadata": {},
   "source": [
    "# duration of all trips"
   ]
  },
  {
   "cell_type": "code",
   "execution_count": 9,
   "metadata": {},
   "outputs": [
    {
     "data": {
      "text/html": [
       "<div>\n",
       "<style scoped>\n",
       "    .dataframe tbody tr th:only-of-type {\n",
       "        vertical-align: middle;\n",
       "    }\n",
       "\n",
       "    .dataframe tbody tr th {\n",
       "        vertical-align: top;\n",
       "    }\n",
       "\n",
       "    .dataframe thead th {\n",
       "        text-align: right;\n",
       "    }\n",
       "</style>\n",
       "<table border=\"1\" class=\"dataframe\">\n",
       "  <thead>\n",
       "    <tr style=\"text-align: right;\">\n",
       "      <th></th>\n",
       "      <th>w_trip_id</th>\n",
       "      <th>start_time</th>\n",
       "      <th>end_time</th>\n",
       "    </tr>\n",
       "  </thead>\n",
       "  <tbody>\n",
       "    <tr>\n",
       "      <th>0</th>\n",
       "      <td>000229fa0918ba0950e8059f241c318d</td>\n",
       "      <td>2019-09-16T08:13:57.000Z</td>\n",
       "      <td>2019-09-16T08:26:39.000Z</td>\n",
       "    </tr>\n",
       "    <tr>\n",
       "      <th>1</th>\n",
       "      <td>0008216eee32c3901a4b1e3525f22f2c</td>\n",
       "      <td>2019-09-26T04:35:39.000Z</td>\n",
       "      <td>2019-09-26T04:44:11.000Z</td>\n",
       "    </tr>\n",
       "  </tbody>\n",
       "</table>\n",
       "</div>"
      ],
      "text/plain": [
       "                          w_trip_id                start_time  \\\n",
       "0  000229fa0918ba0950e8059f241c318d  2019-09-16T08:13:57.000Z   \n",
       "1  0008216eee32c3901a4b1e3525f22f2c  2019-09-26T04:35:39.000Z   \n",
       "\n",
       "                   end_time  \n",
       "0  2019-09-16T08:26:39.000Z  \n",
       "1  2019-09-26T04:44:11.000Z  "
      ]
     },
     "execution_count": 9,
     "metadata": {},
     "output_type": "execute_result"
    }
   ],
   "source": [
    "duration_df = pd.DataFrame({'start_time': waypoints_df.groupby('w_trip_id')['capture_time'].min(), 'end_time': waypoints_df.groupby('w_trip_id')['capture_time'].max()}).reset_index()\n",
    "duration_df.head(2)"
   ]
  },
  {
   "cell_type": "code",
   "execution_count": 10,
   "metadata": {},
   "outputs": [
    {
     "data": {
      "text/html": [
       "<div>\n",
       "<style scoped>\n",
       "    .dataframe tbody tr th:only-of-type {\n",
       "        vertical-align: middle;\n",
       "    }\n",
       "\n",
       "    .dataframe tbody tr th {\n",
       "        vertical-align: top;\n",
       "    }\n",
       "\n",
       "    .dataframe thead th {\n",
       "        text-align: right;\n",
       "    }\n",
       "</style>\n",
       "<table border=\"1\" class=\"dataframe\">\n",
       "  <thead>\n",
       "    <tr style=\"text-align: right;\">\n",
       "      <th></th>\n",
       "      <th>w_trip_id</th>\n",
       "      <th>start_time</th>\n",
       "      <th>end_time</th>\n",
       "      <th>duration</th>\n",
       "    </tr>\n",
       "  </thead>\n",
       "  <tbody>\n",
       "    <tr>\n",
       "      <th>0</th>\n",
       "      <td>000229fa0918ba0950e8059f241c318d</td>\n",
       "      <td>2019-09-16 08:13:57</td>\n",
       "      <td>2019-09-16 08:26:39</td>\n",
       "      <td>0 days 00:12:42</td>\n",
       "    </tr>\n",
       "    <tr>\n",
       "      <th>1</th>\n",
       "      <td>0008216eee32c3901a4b1e3525f22f2c</td>\n",
       "      <td>2019-09-26 04:35:39</td>\n",
       "      <td>2019-09-26 04:44:11</td>\n",
       "      <td>0 days 00:08:32</td>\n",
       "    </tr>\n",
       "  </tbody>\n",
       "</table>\n",
       "</div>"
      ],
      "text/plain": [
       "                          w_trip_id          start_time            end_time  \\\n",
       "0  000229fa0918ba0950e8059f241c318d 2019-09-16 08:13:57 2019-09-16 08:26:39   \n",
       "1  0008216eee32c3901a4b1e3525f22f2c 2019-09-26 04:35:39 2019-09-26 04:44:11   \n",
       "\n",
       "         duration  \n",
       "0 0 days 00:12:42  \n",
       "1 0 days 00:08:32  "
      ]
     },
     "execution_count": 10,
     "metadata": {},
     "output_type": "execute_result"
    }
   ],
   "source": [
    "duration_df['start_time'] =  pd.to_datetime(duration_df['start_time'], format='%Y-%m-%dT%H:%M:%S.%fZ')\n",
    "duration_df['end_time'] =  pd.to_datetime(duration_df['end_time'], format='%Y-%m-%dT%H:%M:%S.%fZ')\n",
    "duration_df['duration'] = duration_df['end_time'] - duration_df['start_time']\n",
    "duration_df.head(2)"
   ]
  },
  {
   "cell_type": "markdown",
   "metadata": {},
   "source": [
    "# count trips in bins w.r.t duration"
   ]
  },
  {
   "cell_type": "code",
   "execution_count": 44,
   "metadata": {},
   "outputs": [
    {
     "data": {
      "text/plain": [
       "Timedelta('0 days 00:01:00')"
      ]
     },
     "execution_count": 44,
     "metadata": {},
     "output_type": "execute_result"
    }
   ],
   "source": [
    "from datetime import datetime\n"
   ]
  },
  {
   "cell_type": "code",
   "execution_count": 53,
   "metadata": {},
   "outputs": [
    {
     "data": {
      "text/html": [
       "<div>\n",
       "<style scoped>\n",
       "    .dataframe tbody tr th:only-of-type {\n",
       "        vertical-align: middle;\n",
       "    }\n",
       "\n",
       "    .dataframe tbody tr th {\n",
       "        vertical-align: top;\n",
       "    }\n",
       "\n",
       "    .dataframe thead th {\n",
       "        text-align: right;\n",
       "    }\n",
       "</style>\n",
       "<table border=\"1\" class=\"dataframe\">\n",
       "  <thead>\n",
       "    <tr style=\"text-align: right;\">\n",
       "      <th></th>\n",
       "      <th>bin</th>\n",
       "      <th>count</th>\n",
       "    </tr>\n",
       "  </thead>\n",
       "  <tbody>\n",
       "    <tr>\n",
       "      <th>0</th>\n",
       "      <td>[0, 1)</td>\n",
       "      <td>0</td>\n",
       "    </tr>\n",
       "    <tr>\n",
       "      <th>1</th>\n",
       "      <td>[1, 5)</td>\n",
       "      <td>3</td>\n",
       "    </tr>\n",
       "  </tbody>\n",
       "</table>\n",
       "</div>"
      ],
      "text/plain": [
       "      bin  count\n",
       "0  [0, 1)      0\n",
       "1  [1, 5)      3"
      ]
     },
     "execution_count": 53,
     "metadata": {},
     "output_type": "execute_result"
    }
   ],
   "source": [
    "bins_boundaries = [1, 5, 10, 15, 30, 60]\n",
    "\n",
    "minute = pd.to_datetime(f\"{2}\", format=\"%M\") -  pd.to_datetime(f\"{1}\", format=\"%M\")\n",
    "\n",
    "list_ = []\n",
    "for i in range(len(bins_boundaries)):\n",
    "    min = 0 if i == 0 else bins_boundaries[i-1]\n",
    "    max = bins_boundaries[i]\n",
    "    data = {\n",
    "        \"bin\": f\"[{min}, {max})\",\n",
    "        \"count\": duration_df[(duration_df[\"duration\"] >= min*minute) & (duration_df[\"duration\"] < max*minute)].shape[0]\n",
    "    }\n",
    "    list_.append(data)\n",
    "last_data = {\n",
    "    \"bin\": f\"[{bins_boundaries[i]}, )\",\n",
    "    \"count\": duration_df[(duration_df[\"duration\"] >= bins_boundaries[i]*minute)].shape[0]\n",
    "}\n",
    "list_.append(last_data)\n",
    "bins_df = pd.DataFrame(list_)\n",
    "bins_df.head(2)"
   ]
  },
  {
   "cell_type": "markdown",
   "metadata": {},
   "source": [
    "# Plot duration bins VS number"
   ]
  },
  {
   "cell_type": "code",
   "execution_count": 54,
   "metadata": {},
   "outputs": [
    {
     "data": {
      "image/png": "[encoded data removed]",
      "text/plain": [
       "<Figure size 600x400 with 1 Axes>"
      ]
     },
     "metadata": {},
     "output_type": "display_data"
    }
   ],
   "source": [
    "import matplotlib.pyplot as plt\n",
    "fig, ax = plt.subplots(nrows=1, ncols=1, figsize=(6, 4))\n",
    "\n",
    "ax.bar(bins_df[\"bin\"], bins_df[\"count\"])\n",
    "ax.set_xlabel(\"length bin\")\n",
    "ax.set_ylabel(\"length count\")\n",
    "plt.show()"
   ]
  },
  {
   "cell_type": "code",
   "execution_count": null,
   "metadata": {},
   "outputs": [],
   "source": []
  }
 ],
 "metadata": {
  "kernelspec": {
   "display_name": "Python 3.8.8 ('venv': venv)",
   "language": "python",
   "name": "python3"
  },
  "language_info": {
   "codemirror_mode": {
    "name": "ipython",
    "version": 3
   },
   "file_extension": ".py",
   "mimetype": "text/x-python",
   "name": "python",
   "nbconvert_exporter": "python",
   "pygments_lexer": "ipython3",
   "version": "3.8.8 (tags/v3.8.8:024d805, Feb 19 2021, 13:18:16) [MSC v.1928 64 bit (AMD64)]"
  },
  "orig_nbformat": 4,
  "vscode": {
   "interpreter": {
    "hash": "0715aa2a497989fa0706baf2936939bd1ee2622463be137c849fd981a5151db7"
   }
  }
 },
 "nbformat": 4,
 "nbformat_minor": 2
}
