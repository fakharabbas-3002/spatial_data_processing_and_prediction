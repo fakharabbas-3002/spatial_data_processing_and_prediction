{
 "cells": [
  {
   "cell_type": "code",
   "execution_count": 1,
   "id": "250a858b",
   "metadata": {},
   "outputs": [],
   "source": [
    "import pandas as pd\n",
    "import numpy as np\n",
    "from scipy import stats"
   ]
  },
  {
   "cell_type": "markdown",
   "id": "fde67a2d",
   "metadata": {},
   "source": [
    "## Outlier removal"
   ]
  },
  {
   "cell_type": "markdown",
   "id": "c4e1ca4b",
   "metadata": {},
   "source": [
    "<b> Aim: </b> </br> For multiple columns in df if we need to remove all rows that have outliers in at least one column </br>\n",
    "\n",
    "<b> Solution: </b> </br> \n",
    "1. For each column, it first computes the Z-score of each value in the column, relative to the column mean and standard deviation.\n",
    "2. It then takes the absolute Z-score because the direction does not matter, only if it is below the threshold.\n",
    "3. all(axis=1) ensures that for each row, all column satisfy the constraint.\n",
    "4. Finally, the result of this condition is used to index the dataframe."
   ]
  },
  {
   "cell_type": "code",
   "execution_count": 2,
   "id": "935ce1dc",
   "metadata": {},
   "outputs": [],
   "source": [
    "import numpy as np\n",
    "from scipy import stats"
   ]
  },
  {
   "cell_type": "code",
   "execution_count": 3,
   "id": "c8d37f84",
   "metadata": {},
   "outputs": [],
   "source": [
    "def fetch_df_without_outliers(df):\n",
    "    col_len = len(df.columns)\n",
    "    return df[(np.abs(stats.zscore(df)) < col_len).all(axis=1)]"
   ]
  },
  {
   "cell_type": "code",
   "execution_count": 4,
   "id": "2fe2f96e",
   "metadata": {},
   "outputs": [],
   "source": [
    "df = pd.DataFrame(np.random.randn(100, 3))"
   ]
  },
  {
   "cell_type": "code",
   "execution_count": 5,
   "id": "09035e64",
   "metadata": {},
   "outputs": [
    {
     "name": "stdout",
     "output_type": "stream",
     "text": [
      "           0         1         2\n",
      "0  -1.205940 -0.171950  1.233098\n",
      "1  -0.541471  0.784178 -0.773538\n",
      "2   1.005979  0.234469  0.139138\n",
      "3  -0.163023 -0.235651  0.277707\n",
      "4   1.656640 -0.427673  0.559094\n",
      "..       ...       ...       ...\n",
      "95 -1.075334 -0.140123 -0.173869\n",
      "96  1.875462 -2.121093 -0.138070\n",
      "97  0.147739 -1.831472 -0.003133\n",
      "98 -0.925892 -1.732796 -0.059455\n",
      "99  0.702822  2.295511 -0.771203\n",
      "\n",
      "[100 rows x 3 columns]\n"
     ]
    }
   ],
   "source": [
    "print(df)"
   ]
  },
  {
   "cell_type": "code",
   "execution_count": 6,
   "id": "8de09def",
   "metadata": {},
   "outputs": [
    {
     "name": "stdout",
     "output_type": "stream",
     "text": [
      "           0         1         2\n",
      "0  -1.205940 -0.171950  1.233098\n",
      "1  -0.541471  0.784178 -0.773538\n",
      "2   1.005979  0.234469  0.139138\n",
      "3  -0.163023 -0.235651  0.277707\n",
      "4   1.656640 -0.427673  0.559094\n",
      "..       ...       ...       ...\n",
      "95 -1.075334 -0.140123 -0.173869\n",
      "96  1.875462 -2.121093 -0.138070\n",
      "97  0.147739 -1.831472 -0.003133\n",
      "98 -0.925892 -1.732796 -0.059455\n",
      "99  0.702822  2.295511 -0.771203\n",
      "\n",
      "[99 rows x 3 columns]\n"
     ]
    }
   ],
   "source": [
    "# Call function to remove outliers\n",
    "new_df = fetch_df_without_outliers(df)\n",
    "print(new_df)"
   ]
  },
  {
   "cell_type": "code",
   "execution_count": null,
   "id": "95e36080",
   "metadata": {},
   "outputs": [],
   "source": []
  },
  {
   "cell_type": "code",
   "execution_count": null,
   "id": "9bc11452",
   "metadata": {},
   "outputs": [],
   "source": []
  },
  {
   "cell_type": "code",
   "execution_count": null,
   "id": "db7e9df8",
   "metadata": {},
   "outputs": [],
   "source": []
  },
  {
   "cell_type": "code",
   "execution_count": null,
   "id": "e16f6441",
   "metadata": {},
   "outputs": [],
   "source": []
  },
  {
   "cell_type": "code",
   "execution_count": null,
   "id": "d6e323d1",
   "metadata": {},
   "outputs": [],
   "source": []
  },
  {
   "cell_type": "code",
   "execution_count": null,
   "id": "9e5506f6",
   "metadata": {},
   "outputs": [],
   "source": []
  }
 ],
 "metadata": {
  "kernelspec": {
   "display_name": "Python 3 (ipykernel)",
   "language": "python",
   "name": "python3"
  },
  "language_info": {
   "codemirror_mode": {
    "name": "ipython",
    "version": 3
   },
   "file_extension": ".py",
   "mimetype": "text/x-python",
   "name": "python",
   "nbconvert_exporter": "python",
   "pygments_lexer": "ipython3",
   "version": "3.8.10"
  }
 },
 "nbformat": 4,
 "nbformat_minor": 5
}
